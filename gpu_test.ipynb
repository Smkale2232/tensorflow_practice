{
 "cells": [
  {
   "cell_type": "code",
   "execution_count": 18,
   "id": "0e446427",
   "metadata": {},
   "outputs": [],
   "source": [
    "import tensorflow as tf\n",
    "from tensorflow import keras\n",
    "import matplotlib.pyplot as plt\n",
    "import numpy as np"
   ]
  },
  {
   "cell_type": "code",
   "execution_count": 19,
   "id": "047a59ad",
   "metadata": {},
   "outputs": [
    {
     "data": {
      "text/plain": [
       "[PhysicalDevice(name='/physical_device:CPU:0', device_type='CPU'),\n",
       " PhysicalDevice(name='/physical_device:GPU:0', device_type='GPU')]"
      ]
     },
     "execution_count": 19,
     "metadata": {},
     "output_type": "execute_result"
    }
   ],
   "source": [
    "tf.config.experimental.list_physical_devices()"
   ]
  },
  {
   "cell_type": "code",
   "execution_count": 20,
   "id": "fef19ef5",
   "metadata": {},
   "outputs": [
    {
     "data": {
      "text/plain": [
       "True"
      ]
     },
     "execution_count": 20,
     "metadata": {},
     "output_type": "execute_result"
    }
   ],
   "source": [
    "tf.test.is_built_with_cuda()"
   ]
  },
  {
   "cell_type": "code",
   "execution_count": 21,
   "id": "ca94394d",
   "metadata": {},
   "outputs": [],
   "source": [
    "(X_train, y_train), (X_test, y_test) = tf.keras.datasets.cifar10.load_data()"
   ]
  },
  {
   "cell_type": "code",
   "execution_count": 22,
   "id": "7f1f61bd",
   "metadata": {},
   "outputs": [
    {
     "data": {
      "text/plain": [
       "(50000, 32, 32, 3)"
      ]
     },
     "execution_count": 22,
     "metadata": {},
     "output_type": "execute_result"
    }
   ],
   "source": [
    "X_train.shape"
   ]
  },
  {
   "cell_type": "code",
   "execution_count": 23,
   "id": "98eba28a",
   "metadata": {},
   "outputs": [],
   "source": [
    "X_train_scaled = X_train/255\n",
    "X_test_scaled = X_test/255"
   ]
  },
  {
   "cell_type": "code",
   "execution_count": 24,
   "id": "9b53f988",
   "metadata": {},
   "outputs": [
    {
     "data": {
      "text/plain": [
       "(50000, 32, 32, 3)"
      ]
     },
     "execution_count": 24,
     "metadata": {},
     "output_type": "execute_result"
    }
   ],
   "source": [
    "X_train_scaled.shape"
   ]
  },
  {
   "cell_type": "code",
   "execution_count": 32,
   "id": "2c5610bf",
   "metadata": {},
   "outputs": [],
   "source": [
    "classes = ['airplane', 'automobile', 'bird', 'cat', 'deer', 'dog', 'frog', 'horse', 'ship', 'truck']"
   ]
  },
  {
   "cell_type": "code",
   "execution_count": 25,
   "id": "f0f189f4",
   "metadata": {},
   "outputs": [
    {
     "data": {
      "text/plain": [
       "array([[6],\n",
       "       [9],\n",
       "       [9],\n",
       "       [4],\n",
       "       [1]], dtype=uint8)"
      ]
     },
     "execution_count": 25,
     "metadata": {},
     "output_type": "execute_result"
    }
   ],
   "source": [
    "y_train[:5]"
   ]
  },
  {
   "cell_type": "code",
   "execution_count": 26,
   "id": "295e9111",
   "metadata": {},
   "outputs": [
    {
     "data": {
      "text/plain": [
       "array([[0., 0., 0., 0., 0., 0., 1., 0., 0., 0.],\n",
       "       [0., 0., 0., 0., 0., 0., 0., 0., 0., 1.],\n",
       "       [0., 0., 0., 0., 0., 0., 0., 0., 0., 1.],\n",
       "       [0., 0., 0., 0., 1., 0., 0., 0., 0., 0.],\n",
       "       [0., 1., 0., 0., 0., 0., 0., 0., 0., 0.]], dtype=float32)"
      ]
     },
     "execution_count": 26,
     "metadata": {},
     "output_type": "execute_result"
    }
   ],
   "source": [
    "y_train_categorical = keras.utils.to_categorical(\n",
    "    y_train, num_classes=10, dtype='float32'\n",
    ")\n",
    "\n",
    "y_train_categorical[:5]"
   ]
  },
  {
   "cell_type": "code",
   "execution_count": 27,
   "id": "9e8dd0c4",
   "metadata": {},
   "outputs": [],
   "source": [
    "y_test_categorical = keras.utils.to_categorical(\n",
    "    y_test, num_classes=10, dtype='float32'\n",
    ")"
   ]
  },
  {
   "cell_type": "code",
   "execution_count": 28,
   "id": "4974ec27",
   "metadata": {},
   "outputs": [
    {
     "name": "stdout",
     "output_type": "stream",
     "text": [
      "Epoch 1/50\n",
      "1563/1563 [==============================] - 10s 5ms/step - loss: 1.8141 - accuracy: 0.3556\n",
      "Epoch 2/50\n",
      "1563/1563 [==============================] - 7s 4ms/step - loss: 1.6268 - accuracy: 0.4288\n",
      "Epoch 3/50\n",
      "1563/1563 [==============================] - 7s 4ms/step - loss: 1.5443 - accuracy: 0.4563\n",
      "Epoch 4/50\n",
      "1563/1563 [==============================] - 7s 4ms/step - loss: 1.4816 - accuracy: 0.4792\n",
      "Epoch 5/50\n",
      "1563/1563 [==============================] - 7s 4ms/step - loss: 1.4338 - accuracy: 0.4979\n",
      "Epoch 6/50\n",
      "1563/1563 [==============================] - 6s 4ms/step - loss: 1.3919 - accuracy: 0.5112\n",
      "Epoch 7/50\n",
      "1563/1563 [==============================] - 7s 4ms/step - loss: 1.3524 - accuracy: 0.5262\n",
      "Epoch 8/50\n",
      "1563/1563 [==============================] - 7s 4ms/step - loss: 1.3166 - accuracy: 0.5374\n",
      "Epoch 9/50\n",
      "1563/1563 [==============================] - 7s 4ms/step - loss: 1.2839 - accuracy: 0.5512\n",
      "Epoch 10/50\n",
      "1563/1563 [==============================] - 7s 4ms/step - loss: 1.2528 - accuracy: 0.5606\n",
      "Epoch 11/50\n",
      "1563/1563 [==============================] - 7s 4ms/step - loss: 1.2237 - accuracy: 0.5715\n",
      "Epoch 12/50\n",
      "1563/1563 [==============================] - 6s 4ms/step - loss: 1.1941 - accuracy: 0.5794\n",
      "Epoch 13/50\n",
      "1563/1563 [==============================] - 7s 4ms/step - loss: 1.1648 - accuracy: 0.5929\n",
      "Epoch 14/50\n",
      "1563/1563 [==============================] - 7s 4ms/step - loss: 1.1413 - accuracy: 0.6013\n",
      "Epoch 15/50\n",
      "1563/1563 [==============================] - 7s 4ms/step - loss: 1.1110 - accuracy: 0.6128\n",
      "Epoch 16/50\n",
      "1563/1563 [==============================] - 7s 4ms/step - loss: 1.0869 - accuracy: 0.6219\n",
      "Epoch 17/50\n",
      "1563/1563 [==============================] - 7s 4ms/step - loss: 1.0574 - accuracy: 0.6331\n",
      "Epoch 18/50\n",
      "1563/1563 [==============================] - 7s 4ms/step - loss: 1.0321 - accuracy: 0.6414\n",
      "Epoch 19/50\n",
      "1563/1563 [==============================] - 7s 4ms/step - loss: 1.0053 - accuracy: 0.6510\n",
      "Epoch 20/50\n",
      "1563/1563 [==============================] - 7s 4ms/step - loss: 0.9810 - accuracy: 0.6596\n",
      "Epoch 21/50\n",
      "1563/1563 [==============================] - 7s 4ms/step - loss: 0.9551 - accuracy: 0.6704\n",
      "Epoch 22/50\n",
      "1563/1563 [==============================] - 7s 4ms/step - loss: 0.9277 - accuracy: 0.6778\n",
      "Epoch 23/50\n",
      "1563/1563 [==============================] - 7s 4ms/step - loss: 0.9054 - accuracy: 0.6901\n",
      "Epoch 24/50\n",
      "1563/1563 [==============================] - 7s 4ms/step - loss: 0.8793 - accuracy: 0.6981\n",
      "Epoch 25/50\n",
      "1563/1563 [==============================] - 7s 4ms/step - loss: 0.8545 - accuracy: 0.7050\n",
      "Epoch 26/50\n",
      "1563/1563 [==============================] - 6s 4ms/step - loss: 0.8302 - accuracy: 0.7141\n",
      "Epoch 27/50\n",
      "1563/1563 [==============================] - 6s 4ms/step - loss: 0.8025 - accuracy: 0.7252\n",
      "Epoch 28/50\n",
      "1563/1563 [==============================] - 7s 4ms/step - loss: 0.7766 - accuracy: 0.7369\n",
      "Epoch 29/50\n",
      "1563/1563 [==============================] - 7s 4ms/step - loss: 0.7540 - accuracy: 0.7418\n",
      "Epoch 30/50\n",
      "1563/1563 [==============================] - 7s 4ms/step - loss: 0.7301 - accuracy: 0.7526\n",
      "Epoch 31/50\n",
      "1563/1563 [==============================] - 7s 4ms/step - loss: 0.7004 - accuracy: 0.7617\n",
      "Epoch 32/50\n",
      "1563/1563 [==============================] - 7s 4ms/step - loss: 0.6769 - accuracy: 0.7708\n",
      "Epoch 33/50\n",
      "1563/1563 [==============================] - 7s 4ms/step - loss: 0.6541 - accuracy: 0.7779\n",
      "Epoch 34/50\n",
      "1563/1563 [==============================] - 7s 4ms/step - loss: 0.6279 - accuracy: 0.7892\n",
      "Epoch 35/50\n",
      "1563/1563 [==============================] - 7s 4ms/step - loss: 0.6043 - accuracy: 0.7965\n",
      "Epoch 36/50\n",
      "1563/1563 [==============================] - 7s 4ms/step - loss: 0.5811 - accuracy: 0.8045\n",
      "Epoch 37/50\n",
      "1563/1563 [==============================] - 7s 4ms/step - loss: 0.5587 - accuracy: 0.8135\n",
      "Epoch 38/50\n",
      "1563/1563 [==============================] - 7s 4ms/step - loss: 0.5328 - accuracy: 0.8232\n",
      "Epoch 39/50\n",
      "1563/1563 [==============================] - 7s 4ms/step - loss: 0.5085 - accuracy: 0.8317\n",
      "Epoch 40/50\n",
      "1563/1563 [==============================] - 7s 4ms/step - loss: 0.4914 - accuracy: 0.8384\n",
      "Epoch 41/50\n",
      "1563/1563 [==============================] - 6s 4ms/step - loss: 0.4653 - accuracy: 0.8498\n",
      "Epoch 42/50\n",
      "1563/1563 [==============================] - 7s 4ms/step - loss: 0.4450 - accuracy: 0.8573\n",
      "Epoch 43/50\n",
      "1563/1563 [==============================] - 7s 4ms/step - loss: 0.4231 - accuracy: 0.8638\n",
      "Epoch 44/50\n",
      "1563/1563 [==============================] - 7s 4ms/step - loss: 0.4070 - accuracy: 0.8690\n",
      "Epoch 45/50\n",
      "1563/1563 [==============================] - 7s 4ms/step - loss: 0.3842 - accuracy: 0.8796\n",
      "Epoch 46/50\n",
      "1563/1563 [==============================] - 7s 4ms/step - loss: 0.3640 - accuracy: 0.8865\n",
      "Epoch 47/50\n",
      "1563/1563 [==============================] - 7s 4ms/step - loss: 0.3454 - accuracy: 0.8939\n",
      "Epoch 48/50\n",
      "1563/1563 [==============================] - 7s 4ms/step - loss: 0.3267 - accuracy: 0.9007\n",
      "Epoch 49/50\n",
      "1563/1563 [==============================] - 7s 4ms/step - loss: 0.3064 - accuracy: 0.9072\n",
      "Epoch 50/50\n",
      "1563/1563 [==============================] - 8s 5ms/step - loss: 0.2934 - accuracy: 0.9116\n"
     ]
    },
    {
     "data": {
      "text/plain": [
       "<keras.callbacks.History at 0x20acef0aeb0>"
      ]
     },
     "execution_count": 28,
     "metadata": {},
     "output_type": "execute_result"
    }
   ],
   "source": [
    "model = keras.Sequential([\n",
    "    keras.layers.Flatten(input_shape=(32,32,3)),\n",
    "    keras.layers.Dense(3000, activation='relu'),\n",
    "    keras.layers.Dense(1000, activation='relu'),\n",
    "    keras.layers.Dense(10, activation='sigmoid')\n",
    "])\n",
    "\n",
    "model.compile(\n",
    "    optimizer='sgd',\n",
    "    loss='categorical_crossentropy',\n",
    "    metrics=['accuracy']\n",
    ")\n",
    "\n",
    "model.fit(X_train_scaled, y_train_categorical, epochs=50)"
   ]
  },
  {
   "cell_type": "code",
   "execution_count": 33,
   "id": "9c945987",
   "metadata": {},
   "outputs": [
    {
     "name": "stdout",
     "output_type": "stream",
     "text": [
      "313/313 [==============================] - 1s 2ms/step\n"
     ]
    },
    {
     "data": {
      "text/plain": [
       "'cat'"
      ]
     },
     "execution_count": 33,
     "metadata": {},
     "output_type": "execute_result"
    }
   ],
   "source": [
    "classes[np.argmax(model.predict(X_test_scaled)[0])]"
   ]
  },
  {
   "cell_type": "code",
   "execution_count": 34,
   "id": "adb0b04d",
   "metadata": {},
   "outputs": [
    {
     "data": {
      "text/plain": [
       "'cat'"
      ]
     },
     "execution_count": 34,
     "metadata": {},
     "output_type": "execute_result"
    }
   ],
   "source": [
    "classes[y_test[0][0]]"
   ]
  },
  {
   "cell_type": "code",
   "execution_count": 37,
   "id": "c7d40d5d",
   "metadata": {},
   "outputs": [],
   "source": [
    "def get_model():\n",
    "    model = keras.Sequential([\n",
    "        keras.layers.Flatten(input_shape=(32,32,3)),\n",
    "        keras.layers.Dense(3000, activation='relu'),\n",
    "        keras.layers.Dense(1000, activation='relu'),\n",
    "        keras.layers.Dense(10, activation='sigmoid')\n",
    "    ])\n",
    "\n",
    "    model.compile(\n",
    "        optimizer='sgd',\n",
    "        loss='categorical_crossentropy',\n",
    "        metrics=['accuracy']\n",
    "    )\n",
    "\n",
    "    return model"
   ]
  },
  {
   "cell_type": "code",
   "execution_count": 38,
   "id": "5141a019",
   "metadata": {},
   "outputs": [
    {
     "name": "stdout",
     "output_type": "stream",
     "text": [
      "1563/1563 [==============================] - 94s 60ms/step - loss: 1.8125 - accuracy: 0.3560\n"
     ]
    }
   ],
   "source": [
    "with tf.device('/CPU:0'):\n",
    "    cpu_model = get_model()\n",
    "    cpu_model.fit(X_train_scaled, y_train_categorical, epochs=1)"
   ]
  },
  {
   "cell_type": "code",
   "execution_count": 39,
   "id": "5190ef41",
   "metadata": {},
   "outputs": [
    {
     "name": "stdout",
     "output_type": "stream",
     "text": [
      "1563/1563 [==============================] - 7s 4ms/step - loss: 1.8165 - accuracy: 0.3533\n"
     ]
    }
   ],
   "source": [
    "with tf.device('/GPU:0'):\n",
    "    cpu_model = get_model()\n",
    "    cpu_model.fit(X_train_scaled, y_train_categorical, epochs=1)"
   ]
  }
 ],
 "metadata": {
  "kernelspec": {
   "display_name": "tf",
   "language": "python",
   "name": "python3"
  },
  "language_info": {
   "codemirror_mode": {
    "name": "ipython",
    "version": 3
   },
   "file_extension": ".py",
   "mimetype": "text/x-python",
   "name": "python",
   "nbconvert_exporter": "python",
   "pygments_lexer": "ipython3",
   "version": "3.9.23"
  }
 },
 "nbformat": 4,
 "nbformat_minor": 5
}
