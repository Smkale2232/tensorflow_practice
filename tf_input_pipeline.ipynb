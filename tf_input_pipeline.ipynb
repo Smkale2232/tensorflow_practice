{
 "cells": [
  {
   "cell_type": "code",
   "execution_count": 1,
   "id": "68b1ace6",
   "metadata": {},
   "outputs": [],
   "source": [
    "import tensorflow as tf"
   ]
  },
  {
   "cell_type": "code",
   "execution_count": 2,
   "id": "4c08cd8f",
   "metadata": {},
   "outputs": [
    {
     "name": "stdout",
     "output_type": "stream",
     "text": [
      "b'images\\\\cat\\\\20 Reasons Why Cats Make the Best Pets....jpg'\n",
      "b'images\\\\cat\\\\7 Foods Your Cat Can_t Eat.jpg'\n",
      "b'images\\\\cat\\\\A cat appears to have caught the....jpg'\n"
     ]
    }
   ],
   "source": [
    "images_ds = tf.data.Dataset.list_files('images/*/*', shuffle=False)\n",
    "\n",
    "for file in images_ds.take(3):\n",
    "    print(file.numpy())"
   ]
  },
  {
   "cell_type": "code",
   "execution_count": 3,
   "id": "53319c3e",
   "metadata": {},
   "outputs": [],
   "source": [
    "class_names = ['cat', 'dog']"
   ]
  },
  {
   "cell_type": "code",
   "execution_count": 4,
   "id": "be071bda",
   "metadata": {},
   "outputs": [
    {
     "data": {
      "text/plain": [
       "130"
      ]
     },
     "execution_count": 4,
     "metadata": {},
     "output_type": "execute_result"
    }
   ],
   "source": [
    "image_count = len(images_ds)\n",
    "image_count"
   ]
  },
  {
   "cell_type": "code",
   "execution_count": 5,
   "id": "9b3e6e9a",
   "metadata": {},
   "outputs": [],
   "source": [
    "train_size = int(image_count*0.8)\n",
    "\n",
    "train_ds = images_ds.take(train_size)\n",
    "test_ds = images_ds.skip(train_size)"
   ]
  },
  {
   "cell_type": "code",
   "execution_count": 6,
   "id": "a4600a66",
   "metadata": {},
   "outputs": [
    {
     "data": {
      "text/plain": [
       "104"
      ]
     },
     "execution_count": 6,
     "metadata": {},
     "output_type": "execute_result"
    }
   ],
   "source": [
    "len(train_ds)"
   ]
  },
  {
   "cell_type": "code",
   "execution_count": 7,
   "id": "807c55ef",
   "metadata": {},
   "outputs": [
    {
     "data": {
      "text/plain": [
       "26"
      ]
     },
     "execution_count": 7,
     "metadata": {},
     "output_type": "execute_result"
    }
   ],
   "source": [
    "len(test_ds)"
   ]
  },
  {
   "cell_type": "code",
   "execution_count": 11,
   "id": "84850953",
   "metadata": {},
   "outputs": [],
   "source": [
    "def get_label(file_path):\n",
    "    import os\n",
    "    return tf.strings.split(file_path, os.path.sep)[-2]"
   ]
  },
  {
   "cell_type": "code",
   "execution_count": 13,
   "id": "d734750d",
   "metadata": {},
   "outputs": [],
   "source": [
    "def process_image(file_path):\n",
    "    label = get_label(file_path)\n",
    "\n",
    "    img = tf.io.read_file(file_path)\n",
    "    img = tf.image.decode_jpeg(img)\n",
    "    img = tf.image.resize(img, [128,128])\n",
    "\n",
    "    return img, label"
   ]
  },
  {
   "cell_type": "code",
   "execution_count": null,
   "id": "f1b63b6f",
   "metadata": {},
   "outputs": [
    {
     "name": "stdout",
     "output_type": "stream",
     "text": [
      "Image:  tf.Tensor(\n",
      "[[[155.       186.       215.      ]\n",
      "  [156.       187.       216.      ]\n",
      "  [158.       189.       218.      ]\n",
      "  ...\n",
      "  [ 90.99609   84.99609   72.99609 ]\n",
      "  [ 92.        86.        74.      ]\n",
      "  [ 93.        87.        75.      ]]\n",
      "\n",
      " [[156.01172  187.01172  216.01172 ]\n",
      "  [157.02344  188.02344  217.02344 ]\n",
      "  [159.01172  190.01172  219.01172 ]\n",
      "  ...\n",
      "  [ 86.98828   82.97656   74.01172 ]\n",
      "  [ 89.97656   85.96484   77.      ]\n",
      "  [ 91.        86.98828   78.02344 ]]\n",
      "\n",
      " [[159.       190.       219.      ]\n",
      "  [160.       191.       220.      ]\n",
      "  [161.01953  192.01953  221.01953 ]\n",
      "  ...\n",
      "  [ 80.96094   77.96094   72.96094 ]\n",
      "  [ 85.        82.        77.      ]\n",
      "  [ 87.        84.        79.      ]]\n",
      "\n",
      " ...\n",
      "\n",
      " [[ 91.09766   44.98047   73.17578 ]\n",
      "  [108.25781   83.16016   86.25781 ]\n",
      "  [ 36.058594  33.058594  18.058594]\n",
      "  ...\n",
      "  [ 51.234375  32.214844  34.195312]\n",
      "  [ 41.078125  18.078125  26.078125]\n",
      "  [ 38.941406  24.941406  23.941406]]\n",
      "\n",
      " [[141.90625  123.88281  111.91797 ]\n",
      "  [ 69.91797   58.89453   40.91797 ]\n",
      "  [ 36.        30.        16.      ]\n",
      "  ...\n",
      "  [ 76.07031   62.058594  53.08203 ]\n",
      "  [ 69.11719   50.117188  44.117188]\n",
      "  [ 45.929688  32.941406  16.964844]]\n",
      "\n",
      " [[137.01562  117.015625 118.00781 ]\n",
      "  [ 31.148438  19.148438   7.140625]\n",
      "  [ 49.960938  43.960938  27.960938]\n",
      "  ...\n",
      "  [ 72.00781   47.01172   65.98828 ]\n",
      "  [ 73.98047   40.98828   59.972656]\n",
      "  [ 62.960938  35.96875   42.953125]]], shape=(128, 128, 3), dtype=float32)\n",
      "Label:  tf.Tensor(b'cat', shape=(), dtype=string)\n",
      "Image:  tf.Tensor(\n",
      "[[[175.41406  176.41406  171.41406 ]\n",
      "  [179.       180.       175.      ]\n",
      "  [179.48846  180.48846  175.48846 ]\n",
      "  ...\n",
      "  [ 98.50818   99.50818   94.50818 ]\n",
      "  [ 98.116516  99.116516  94.116516]\n",
      "  [ 96.83594   97.83594   92.83594 ]]\n",
      "\n",
      " [[177.24219  178.24219  173.24219 ]\n",
      "  [177.89264  178.89264  173.89264 ]\n",
      "  [177.2857   178.2857   173.2857  ]\n",
      "  ...\n",
      "  [100.72766  101.72766   96.72766 ]\n",
      "  [ 99.75781  100.75781   95.75781 ]\n",
      "  [ 96.67322   97.67322   92.67322 ]]\n",
      "\n",
      " [[178.6131   179.6131   174.6131  ]\n",
      "  [178.50781  179.50781  174.50781 ]\n",
      "  [180.25     181.25     176.25    ]\n",
      "  ...\n",
      "  [105.05652  106.05652  101.05652 ]\n",
      "  [ 99.069214 100.069214  95.069214]\n",
      "  [ 98.        99.        94.      ]]\n",
      "\n",
      " ...\n",
      "\n",
      " [[165.71838  101.87091   63.553955]\n",
      "  [170.10492  109.45203   70.15515 ]\n",
      "  [163.7475   100.60687   69.53656 ]\n",
      "  ...\n",
      "  [ 89.440674  48.74951   49.916565]\n",
      "  [ 77.036865  38.247803  43.17749 ]\n",
      "  [ 78.25781   44.034973  45.726562]]\n",
      "\n",
      " [[178.75781  112.24219   82.515625]\n",
      "  [165.6018   100.97882   66.35181 ]\n",
      "  [160.        93.21765   49.472107]\n",
      "  ...\n",
      "  [ 83.08807   46.628235  49.45862 ]\n",
      "  [ 81.71875   44.234375  50.75    ]\n",
      "  [ 82.064514  49.33795   54.095764]]\n",
      "\n",
      " [[171.39777  103.301636  61.902527]\n",
      "  [207.03839  135.03839   80.053345]\n",
      "  [225.68896  152.60266   88.91925 ]\n",
      "  ...\n",
      "  [ 75.24408   40.783142  44.96283 ]\n",
      "  [ 72.289734  36.46161   43.46161 ]\n",
      "  [ 68.55878   36.73065   44.31659 ]]], shape=(128, 128, 3), dtype=float32)\n",
      "Label:  tf.Tensor(b'cat', shape=(), dtype=string)\n",
      "Image:  tf.Tensor(\n",
      "[[[197.28906   206.28906   201.75781  ]\n",
      "  [207.10156   209.80469   204.57031  ]\n",
      "  [207.        208.46875   202.23438  ]\n",
      "  ...\n",
      "  [192.91028   186.91028   186.91028  ]\n",
      "  [189.10156   180.10156   181.10156  ]\n",
      "  [185.87732   176.87732   177.87732  ]]\n",
      "\n",
      " [[202.        207.        200.70312  ]\n",
      "  [205.83069   205.83069   197.83069  ]\n",
      "  [204.59375   203.70312   194.       ]\n",
      "  ...\n",
      "  [193.        187.        187.       ]\n",
      "  [189.57031   185.57031   184.57031  ]\n",
      "  [188.1554    179.1554    180.1554   ]]\n",
      "\n",
      " [[202.17188   202.        194.51562  ]\n",
      "  [202.07385   202.07385   192.07385  ]\n",
      "  [204.        204.        194.       ]\n",
      "  ...\n",
      "  [189.17188   183.17188   183.17188  ]\n",
      "  [189.17188   183.17188   183.17188  ]\n",
      "  [186.08997   180.08997   180.08997  ]]\n",
      "\n",
      " ...\n",
      "\n",
      " [[191.78528   189.7384    184.7384   ]\n",
      "  [184.34229   179.34229   173.34229  ]\n",
      "  [192.71875   190.57031   186.95312  ]\n",
      "  ...\n",
      "  [  0.         11.         31.       ]\n",
      "  [  0.         11.         31.       ]\n",
      "  [  0.         10.         28.       ]]\n",
      "\n",
      " [[202.94104   200.89417   195.89417  ]\n",
      "  [189.32544   184.32544   178.32544  ]\n",
      "  [210.78906   208.64062   205.02344  ]\n",
      "  ...\n",
      "  [  0.         10.296875   30.296875 ]\n",
      "  [  0.         10.         30.       ]\n",
      "  [  0.          9.         27.       ]]\n",
      "\n",
      " [[177.48523   168.48523   163.48523  ]\n",
      "  [182.59814   172.02783   164.73877  ]\n",
      "  [192.53455   185.53455   179.53455  ]\n",
      "  ...\n",
      "  [  0.         10.6171875  30.617188 ]\n",
      "  [  0.          8.         27.       ]\n",
      "  [  0.          8.         27.       ]]], shape=(128, 128, 3), dtype=float32)\n",
      "Label:  tf.Tensor(b'cat', shape=(), dtype=string)\n"
     ]
    }
   ],
   "source": [
    "train_ds = train_ds.map(process_image)\n",
    "for img, label in train_ds.take(3):\n",
    "    print('Image: ',img)\n",
    ";    print('Label: ',label)"
   ]
  },
  {
   "cell_type": "code",
   "execution_count": 19,
   "id": "7d640400",
   "metadata": {},
   "outputs": [],
   "source": [
    "def scale(image, label):\n",
    "    return image/255, label"
   ]
  },
  {
   "cell_type": "code",
   "execution_count": 21,
   "id": "f283cbdc",
   "metadata": {},
   "outputs": [
    {
     "name": "stdout",
     "output_type": "stream",
     "text": [
      "****Image:  [0.60784316 0.7294118  0.84313726]\n",
      "****Label:  b'cat'\n",
      "****Image:  [0.6878983  0.69181985 0.672212  ]\n",
      "****Label:  b'cat'\n",
      "****Image:  [0.7736826  0.8089767  0.79120713]\n",
      "****Label:  b'cat'\n",
      "****Image:  [0.38330558 0.6778809  0.3122568 ]\n",
      "****Label:  b'cat'\n",
      "****Image:  [0.03924632 0.07846201 0.04316789]\n",
      "****Label:  b'cat'\n"
     ]
    }
   ],
   "source": [
    "train_ds = train_ds.map(scale)\n",
    "for image, label in train_ds.take(5):\n",
    "    print('****Image: ', image.numpy()[0][0])\n",
    "    print('****Label: ', label.numpy())"
   ]
  }
 ],
 "metadata": {
  "kernelspec": {
   "display_name": "tf",
   "language": "python",
   "name": "python3"
  },
  "language_info": {
   "codemirror_mode": {
    "name": "ipython",
    "version": 3
   },
   "file_extension": ".py",
   "mimetype": "text/x-python",
   "name": "python",
   "nbconvert_exporter": "python",
   "pygments_lexer": "ipython3",
   "version": "3.9.23"
  }
 },
 "nbformat": 4,
 "nbformat_minor": 5
}
